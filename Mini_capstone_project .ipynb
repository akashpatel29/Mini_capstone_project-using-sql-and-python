{
 "cells": [
  {
   "cell_type": "markdown",
   "id": "63a4d998-c573-44e2-a4a8-3a05ed83985c",
   "metadata": {},
   "source": [
    "1. Database Setup and Import: Import All Modules Create a MySQL Database \n",
    "Load the Dataset into MySQL:\n",
    "Save the uploaded crime_data.csv file and use a tool like MySQL Workbench or a command-line tool to import the CSV file into the crimes table."
   ]
  },
  {
   "cell_type": "code",
   "execution_count": 97,
   "id": "96ee1eb3-3886-4306-8b18-b760704094db",
   "metadata": {},
   "outputs": [],
   "source": [
    "import pandas as pd\n",
    "import matplotlib.pyplot as plt\n",
    "import seaborn as sns\n",
    "import numpy as np\n",
    "import plotly.express as px"
   ]
  },
  {
   "cell_type": "markdown",
   "id": "0bd2fe06-5257-4b8e-8a13-3dfd55158b1d",
   "metadata": {},
   "source": [
    "2. Database Connection: Use PyMySQL to establish a connection to the database in Jupter notebook.\n"
   ]
  },
  {
   "cell_type": "code",
   "execution_count": 98,
   "id": "8f0782b5-4758-4e77-9f98-d40af16d58e8",
   "metadata": {},
   "outputs": [
    {
     "name": "stdout",
     "output_type": "stream",
     "text": [
      "<pymysql.connections.Connection object at 0x16975f250>\n"
     ]
    }
   ],
   "source": [
    "import pymysql\n",
    "\n",
    "# Establish a connection to the database\n",
    "connection = pymysql.connect(host='localhost',\n",
    "                             user='root',\n",
    "                             password='Pass@123',\n",
    "                             database='crime_data')\n",
    "print (connection)\n"
   ]
  },
  {
   "cell_type": "code",
   "execution_count": 99,
   "id": "0f7ad1b9-0262-4c41-bd86-29edd54b438a",
   "metadata": {},
   "outputs": [],
   "source": [
    "import warnings\n",
    "warnings.filterwarnings(\"ignore\")\n",
    "import pandas as pd"
   ]
  },
  {
   "cell_type": "code",
   "execution_count": 100,
   "id": "05b2d952-c488-4761-93c4-c4278aa86b9c",
   "metadata": {},
   "outputs": [
    {
     "data": {
      "text/html": [
       "<div>\n",
       "<style scoped>\n",
       "    .dataframe tbody tr th:only-of-type {\n",
       "        vertical-align: middle;\n",
       "    }\n",
       "\n",
       "    .dataframe tbody tr th {\n",
       "        vertical-align: top;\n",
       "    }\n",
       "\n",
       "    .dataframe thead th {\n",
       "        text-align: right;\n",
       "    }\n",
       "</style>\n",
       "<table border=\"1\" class=\"dataframe\">\n",
       "  <thead>\n",
       "    <tr style=\"text-align: right;\">\n",
       "      <th></th>\n",
       "      <th>DR_NO</th>\n",
       "      <th>Date_Rptd</th>\n",
       "      <th>DATE_OCC</th>\n",
       "      <th>AREA_NAME</th>\n",
       "      <th>Crm_Cd</th>\n",
       "      <th>Crm_Cd_Desc</th>\n",
       "      <th>Vict_Age</th>\n",
       "      <th>Vict_Sex</th>\n",
       "      <th>Premis_Desc</th>\n",
       "      <th>Status</th>\n",
       "      <th>Location</th>\n",
       "      <th>LAT</th>\n",
       "      <th>LON</th>\n",
       "    </tr>\n",
       "  </thead>\n",
       "  <tbody>\n",
       "    <tr>\n",
       "      <th>0</th>\n",
       "      <td>10304468</td>\n",
       "      <td>01-08-2020</td>\n",
       "      <td>01-08-2020</td>\n",
       "      <td>Southwest</td>\n",
       "      <td>624</td>\n",
       "      <td>BATTERY - SIMPLE ASSAULT</td>\n",
       "      <td>36</td>\n",
       "      <td>F</td>\n",
       "      <td>SINGLE FAMILY DWELLING</td>\n",
       "      <td>AO</td>\n",
       "      <td>1100 W 39TH PL</td>\n",
       "      <td>34.01</td>\n",
       "      <td>-118.30</td>\n",
       "    </tr>\n",
       "    <tr>\n",
       "      <th>1</th>\n",
       "      <td>190101086</td>\n",
       "      <td>01-02-2020</td>\n",
       "      <td>01-01-2020</td>\n",
       "      <td>Central</td>\n",
       "      <td>624</td>\n",
       "      <td>BATTERY - SIMPLE ASSAULT</td>\n",
       "      <td>25</td>\n",
       "      <td>M</td>\n",
       "      <td>SIDEWALK</td>\n",
       "      <td>IC</td>\n",
       "      <td>700 S HILL ST</td>\n",
       "      <td>34.05</td>\n",
       "      <td>-118.25</td>\n",
       "    </tr>\n",
       "    <tr>\n",
       "      <th>2</th>\n",
       "      <td>191501505</td>\n",
       "      <td>01-01-2020</td>\n",
       "      <td>01-01-2020</td>\n",
       "      <td>N Hollywood</td>\n",
       "      <td>745</td>\n",
       "      <td>VANDALISM - MISDEAMEANOR ($399 OR UNDER)</td>\n",
       "      <td>76</td>\n",
       "      <td>F</td>\n",
       "      <td>MULTI-UNIT DWELLING (APARTMENT, DUPLEX, ETC)</td>\n",
       "      <td>IC</td>\n",
       "      <td>5400 CORTEEN PL</td>\n",
       "      <td>34.17</td>\n",
       "      <td>-118.40</td>\n",
       "    </tr>\n",
       "    <tr>\n",
       "      <th>3</th>\n",
       "      <td>191921269</td>\n",
       "      <td>01-01-2020</td>\n",
       "      <td>01-01-2020</td>\n",
       "      <td>Mission</td>\n",
       "      <td>740</td>\n",
       "      <td>VANDALISM - FELONY ($400 &amp; OVER, ALL CHURCH VA...</td>\n",
       "      <td>31</td>\n",
       "      <td>X</td>\n",
       "      <td>BEAUTY SUPPLY STORE</td>\n",
       "      <td>IC</td>\n",
       "      <td>14400 TITUS ST</td>\n",
       "      <td>34.22</td>\n",
       "      <td>-118.45</td>\n",
       "    </tr>\n",
       "    <tr>\n",
       "      <th>4</th>\n",
       "      <td>200100502</td>\n",
       "      <td>01-02-2020</td>\n",
       "      <td>01-02-2020</td>\n",
       "      <td>Central</td>\n",
       "      <td>442</td>\n",
       "      <td>SHOPLIFTING - PETTY THEFT ($950 &amp; UNDER)</td>\n",
       "      <td>23</td>\n",
       "      <td>M</td>\n",
       "      <td>DEPARTMENT STORE</td>\n",
       "      <td>IC</td>\n",
       "      <td>700 S FIGUEROA ST</td>\n",
       "      <td>34.05</td>\n",
       "      <td>-118.26</td>\n",
       "    </tr>\n",
       "    <tr>\n",
       "      <th>...</th>\n",
       "      <td>...</td>\n",
       "      <td>...</td>\n",
       "      <td>...</td>\n",
       "      <td>...</td>\n",
       "      <td>...</td>\n",
       "      <td>...</td>\n",
       "      <td>...</td>\n",
       "      <td>...</td>\n",
       "      <td>...</td>\n",
       "      <td>...</td>\n",
       "      <td>...</td>\n",
       "      <td>...</td>\n",
       "      <td>...</td>\n",
       "    </tr>\n",
       "    <tr>\n",
       "      <th>494</th>\n",
       "      <td>200106614</td>\n",
       "      <td>02-07-2020</td>\n",
       "      <td>02-07-2020</td>\n",
       "      <td>Central</td>\n",
       "      <td>624</td>\n",
       "      <td>BATTERY - SIMPLE ASSAULT</td>\n",
       "      <td>33</td>\n",
       "      <td>M</td>\n",
       "      <td>SIDEWALK</td>\n",
       "      <td>IC</td>\n",
       "      <td>2400 ELLENDALE PL</td>\n",
       "      <td>34.05</td>\n",
       "      <td>-118.26</td>\n",
       "    </tr>\n",
       "    <tr>\n",
       "      <th>495</th>\n",
       "      <td>200106615</td>\n",
       "      <td>02-07-2020</td>\n",
       "      <td>02-07-2020</td>\n",
       "      <td>Central</td>\n",
       "      <td>624</td>\n",
       "      <td>BATTERY - SIMPLE ASSAULT</td>\n",
       "      <td>25</td>\n",
       "      <td>M</td>\n",
       "      <td>SIDEWALK</td>\n",
       "      <td>IC</td>\n",
       "      <td>39TH PL</td>\n",
       "      <td>34.05</td>\n",
       "      <td>-118.26</td>\n",
       "    </tr>\n",
       "    <tr>\n",
       "      <th>496</th>\n",
       "      <td>200106616</td>\n",
       "      <td>02-07-2020</td>\n",
       "      <td>02-07-2020</td>\n",
       "      <td>Central</td>\n",
       "      <td>624</td>\n",
       "      <td>BATTERY - SIMPLE ASSAULT</td>\n",
       "      <td>35</td>\n",
       "      <td>M</td>\n",
       "      <td>OTHER STORE</td>\n",
       "      <td>IC</td>\n",
       "      <td>2500 W VERNON AV</td>\n",
       "      <td>34.05</td>\n",
       "      <td>-118.25</td>\n",
       "    </tr>\n",
       "    <tr>\n",
       "      <th>497</th>\n",
       "      <td>200106617</td>\n",
       "      <td>02-07-2020</td>\n",
       "      <td>01-10-2020</td>\n",
       "      <td>Central</td>\n",
       "      <td>510</td>\n",
       "      <td>VEHICLE - STOLEN</td>\n",
       "      <td>0</td>\n",
       "      <td>F</td>\n",
       "      <td>PARKING LOT</td>\n",
       "      <td>IC</td>\n",
       "      <td>700 EXPOSITION BL</td>\n",
       "      <td>34.05</td>\n",
       "      <td>-118.25</td>\n",
       "    </tr>\n",
       "    <tr>\n",
       "      <th>498</th>\n",
       "      <td>200106618</td>\n",
       "      <td>02-07-2020</td>\n",
       "      <td>02-03-2020</td>\n",
       "      <td>Central</td>\n",
       "      <td>745</td>\n",
       "      <td>VANDALISM - MISDEAMEANOR ($399 OR UNDER)</td>\n",
       "      <td>72</td>\n",
       "      <td>M</td>\n",
       "      <td>VEHICLE, PASSENGER/TRUCK</td>\n",
       "      <td>IC</td>\n",
       "      <td>2600 S FIGUEROA ST</td>\n",
       "      <td>34.05</td>\n",
       "      <td>-118.24</td>\n",
       "    </tr>\n",
       "  </tbody>\n",
       "</table>\n",
       "<p>499 rows × 13 columns</p>\n",
       "</div>"
      ],
      "text/plain": [
       "         DR_NO   Date_Rptd    DATE_OCC    AREA_NAME  Crm_Cd  \\\n",
       "0     10304468  01-08-2020  01-08-2020    Southwest     624   \n",
       "1    190101086  01-02-2020  01-01-2020      Central     624   \n",
       "2    191501505  01-01-2020  01-01-2020  N Hollywood     745   \n",
       "3    191921269  01-01-2020  01-01-2020      Mission     740   \n",
       "4    200100502  01-02-2020  01-02-2020      Central     442   \n",
       "..         ...         ...         ...          ...     ...   \n",
       "494  200106614  02-07-2020  02-07-2020      Central     624   \n",
       "495  200106615  02-07-2020  02-07-2020      Central     624   \n",
       "496  200106616  02-07-2020  02-07-2020      Central     624   \n",
       "497  200106617  02-07-2020  01-10-2020      Central     510   \n",
       "498  200106618  02-07-2020  02-03-2020      Central     745   \n",
       "\n",
       "                                           Crm_Cd_Desc  Vict_Age Vict_Sex  \\\n",
       "0                             BATTERY - SIMPLE ASSAULT        36        F   \n",
       "1                             BATTERY - SIMPLE ASSAULT        25        M   \n",
       "2             VANDALISM - MISDEAMEANOR ($399 OR UNDER)        76        F   \n",
       "3    VANDALISM - FELONY ($400 & OVER, ALL CHURCH VA...        31        X   \n",
       "4             SHOPLIFTING - PETTY THEFT ($950 & UNDER)        23        M   \n",
       "..                                                 ...       ...      ...   \n",
       "494                           BATTERY - SIMPLE ASSAULT        33        M   \n",
       "495                           BATTERY - SIMPLE ASSAULT        25        M   \n",
       "496                           BATTERY - SIMPLE ASSAULT        35        M   \n",
       "497                                   VEHICLE - STOLEN         0        F   \n",
       "498           VANDALISM - MISDEAMEANOR ($399 OR UNDER)        72        M   \n",
       "\n",
       "                                      Premis_Desc Status            Location  \\\n",
       "0                          SINGLE FAMILY DWELLING     AO      1100 W 39TH PL   \n",
       "1                                        SIDEWALK     IC       700 S HILL ST   \n",
       "2    MULTI-UNIT DWELLING (APARTMENT, DUPLEX, ETC)     IC     5400 CORTEEN PL   \n",
       "3                             BEAUTY SUPPLY STORE     IC      14400 TITUS ST   \n",
       "4                                DEPARTMENT STORE     IC   700 S FIGUEROA ST   \n",
       "..                                            ...    ...                 ...   \n",
       "494                                      SIDEWALK     IC   2400 ELLENDALE PL   \n",
       "495                                      SIDEWALK     IC             39TH PL   \n",
       "496                                   OTHER STORE     IC    2500 W VERNON AV   \n",
       "497                                   PARKING LOT     IC   700 EXPOSITION BL   \n",
       "498                      VEHICLE, PASSENGER/TRUCK     IC  2600 S FIGUEROA ST   \n",
       "\n",
       "       LAT     LON  \n",
       "0    34.01 -118.30  \n",
       "1    34.05 -118.25  \n",
       "2    34.17 -118.40  \n",
       "3    34.22 -118.45  \n",
       "4    34.05 -118.26  \n",
       "..     ...     ...  \n",
       "494  34.05 -118.26  \n",
       "495  34.05 -118.26  \n",
       "496  34.05 -118.25  \n",
       "497  34.05 -118.25  \n",
       "498  34.05 -118.24  \n",
       "\n",
       "[499 rows x 13 columns]"
      ]
     },
     "execution_count": 100,
     "metadata": {},
     "output_type": "execute_result"
    }
   ],
   "source": [
    "query=\"SELECT * FROM crimes;\"\n",
    "df=pd.read_sql(query,connection)\n",
    "df"
   ]
  },
  {
   "cell_type": "markdown",
   "id": "4e8b9c29-bba8-46f1-a1e9-a8fa74a15e91",
   "metadata": {},
   "source": [
    "3. Data Exploration: Retrieve basic statistics on the dataset, such as the total number of records and unique values in specific columns.\n"
   ]
  },
  {
   "cell_type": "code",
   "execution_count": 101,
   "id": "c0ed868d-1ae5-4858-ae61-135e0b189b99",
   "metadata": {},
   "outputs": [
    {
     "name": "stdout",
     "output_type": "stream",
     "text": [
      "              DR_NO      Crm_Cd    Vict_Age         LAT         LON\n",
      "count  4.990000e+02  499.000000  499.000000  499.000000  499.000000\n",
      "mean   1.999930e+08  504.178357   32.142285   34.047335 -118.261283\n",
      "std    8.742243e+06  198.381863   20.202136    0.053840    0.041560\n",
      "min    1.030447e+07  210.000000    0.000000   33.710000 -118.560000\n",
      "25%    2.001044e+08  330.000000   23.000000   34.040000 -118.260000\n",
      "50%    2.001048e+08  442.000000   31.000000   34.050000 -118.250000\n",
      "75%    2.001064e+08  624.000000   46.500000   34.050000 -118.240000\n",
      "max    2.220130e+08  956.000000   78.000000   34.280000 -118.190000\n",
      "42 unique crime codes\n",
      "['BATTERY - SIMPLE ASSAULT' 'VANDALISM - MISDEAMEANOR ($399 OR UNDER)'\n",
      " 'VANDALISM - FELONY ($400 & OVER, ALL CHURCH VANDALISMS)'\n",
      " 'SHOPLIFTING - PETTY THEFT ($950 & UNDER)' 'OTHER MISCELLANEOUS CRIME'\n",
      " 'THEFT-GRAND ($950.01 & OVER)EXCPT,GUNS,FOWL,LIVESTK,PROD'\n",
      " 'BURGLARY FROM VEHICLE' 'CRIMINAL THREATS - NO WEAPON DISPLAYED' 'ARSON'\n",
      " 'THEFT OF IDENTITY' 'ASSAULT WITH DEADLY WEAPON, AGGRAVATED ASSAULT'\n",
      " 'BRANDISH WEAPON' 'THEFT, PERSON' 'BURGLARY' 'BIKE - STOLEN'\n",
      " 'BATTERY POLICE (SIMPLE)' 'THEFT PLAIN - PETTY ($950 & UNDER)'\n",
      " 'VEHICLE - STOLEN' 'ROBBERY' 'VIOLATION OF COURT ORDER' 'TRESPASSING'\n",
      " 'THEFT FROM MOTOR VEHICLE - PETTY ($950 & UNDER)' 'DISTURBING THE PEACE'\n",
      " 'THEFT FROM MOTOR VEHICLE - ATTEMPT' 'THROWING OBJECT AT MOVING VEHICLE'\n",
      " 'EXTORTION' 'BUNCO, GRAND THEFT' 'ATTEMPTED ROBBERY' 'OTHER ASSAULT'\n",
      " 'BOMB SCARE' 'DOCUMENT FORGERY / STOLEN FELONY'\n",
      " 'VIOLATION OF RESTRAINING ORDER' 'BURGLARY, ATTEMPTED' 'FAILURE TO YIELD'\n",
      " 'PURSE SNATCHING' 'LETTERS, LEWD  -  TELEPHONE CALLS, LEWD'\n",
      " 'ORAL COPULATION'\n",
      " 'CRM AGNST CHLD (13 OR UNDER) (14-15 & SUSP 10 YRS OLDER)'\n",
      " 'KIDNAPPING - GRAND ATTEMPT' 'INDECENT EXPOSURE' 'BUNCO, ATTEMPT'\n",
      " 'SHOPLIFTING-GRAND THEFT ($950.01 & OVER)']\n"
     ]
    }
   ],
   "source": [
    "# Retrieve data into a pandas DataFrame\n",
    "query = \"SELECT * FROM crimes;\"\n",
    "crime_data = pd.read_sql(query, connection)\n",
    "\n",
    "# Basic statistics\n",
    "print(crime_data.describe())\n",
    "\n",
    "# Unique values in specific columns\n",
    "print(crime_data['Crm_Cd'].nunique(), \"unique crime codes\")\n",
    "print(crime_data['Crm_Cd_Desc'].unique())\n"
   ]
  },
  {
   "cell_type": "markdown",
   "id": "41a7e52a-4a40-43e2-b183-f6f9019c627f",
   "metadata": {},
   "source": [
    "4. Temporal Analysis: Analyze trends in crime occurrences over time.\n"
   ]
  },
  {
   "cell_type": "code",
   "execution_count": 102,
   "id": "834b7226-808c-4554-9046-373c199235d4",
   "metadata": {},
   "outputs": [
    {
     "data": {
      "image/png": "[encoded data removed]",
      "text/plain": [
       "<Figure size 1000x600 with 1 Axes>"
      ]
     },
     "metadata": {},
     "output_type": "display_data"
    },
    {
     "data": {
      "image/png": "[encoded data removed]",
      "text/plain": [
       "<Figure size 1400x700 with 1 Axes>"
      ]
     },
     "metadata": {},
     "output_type": "display_data"
    }
   ],
   "source": [
    "import matplotlib.pyplot as plt\n",
    "\n",
    "# Convert date columns to datetime\n",
    "crime_data['DATE_OCC'] = pd.to_datetime(crime_data['DATE_OCC'])\n",
    "crime_data['Date_Rptd'] = pd.to_datetime(crime_data['Date_Rptd'])\n",
    "\n",
    "# Create a new column for year and month\n",
    "crime_data['year'] = crime_data['DATE_OCC'].dt.year\n",
    "crime_data['month'] = crime_data['DATE_OCC'].dt.to_period('M')\n",
    "\n",
    "# Plot the trend of crimes over time\n",
    "crimes_per_year = crime_data['year'].value_counts().sort_index()\n",
    "\n",
    "plt.figure(figsize=(10, 6))\n",
    "crimes_per_year.plot(kind='bar', color='green')\n",
    "plt.title('Number of Crimes per Year')\n",
    "plt.xlabel('Year')\n",
    "plt.ylabel('Number of Crimes')\n",
    "plt.grid(True)\n",
    "plt.show()\n",
    "\n",
    "# Plot the trend of crimes per month\n",
    "crimes_per_month = crime_data['month'].value_counts().sort_index()\n",
    "\n",
    "plt.figure(figsize=(14, 7))\n",
    "crimes_per_month.plot()\n",
    "plt.title('Number of Crimes per Month')\n",
    "plt.xlabel('Month')\n",
    "plt.ylabel('Number of Crimes')\n",
    "plt.grid(True)\n",
    "plt.show()\n"
   ]
  },
  {
   "cell_type": "markdown",
   "id": "55d3bbb8-7139-4ae3-981c-5c5e5956194c",
   "metadata": {},
   "source": [
    "5. Spatial Analysis: Visualize Crime Hotspots on a Map.\n"
   ]
  },
  {
   "cell_type": "code",
   "execution_count": 103,
   "id": "6d89e6da-7f60-4549-b4db-2d56ba2118a7",
   "metadata": {},
   "outputs": [
    {
     "data": {
      "image/png": "[encoded data removed]",
      "text/plain": [
       "<Figure size 1000x800 with 1 Axes>"
      ]
     },
     "metadata": {},
     "output_type": "display_data"
    },
    {
     "data": {
      "application/vnd.plotly.v1+json": {
       "config": {
        "plotlyServerURL": "https://plot.ly"
       },
       "data": [
        {
         "hovertemplate": "LON=%{x}<br>LAT=%{y}<extra></extra>",
         "legendgroup": "",
         "marker": {
          "color": "#636efa",
          "symbol": "circle"
         },
         "mode": "markers",
         "name": "",
         "orientation": "v",
         "showlegend": false,
         "type": "scatter",
         "x": [
          -118.3,
          -118.25,
          -118.4,
          -118.45,
          -118.26,
          -118.25,
          -118.24,
          -118.26,
          -118.24,
          -118.26,
          -118.26,
          -118.24,
          -118.43,
          -118.37,
          -118.25,
          -118.26,
          -118.25,
          -118.28,
          -118.26,
          -118.25,
          -118.25,
          -118.26,
          -118.24,
          -118.25,
          -118.26,
          -118.27,
          -118.24,
          -118.25,
          -118.25,
          -118.26,
          -118.25,
          -118.25,
          -118.24,
          -118.25,
          -118.26,
          -118.23,
          -118.26,
          -118.24,
          -118.25,
          -118.25,
          -118.25,
          -118.26,
          -118.26,
          -118.25,
          -118.26,
          -118.24,
          -118.45,
          -118.25,
          -118.24,
          -118.24,
          -118.26,
          -118.24,
          -118.24,
          -118.26,
          -118.25,
          -118.24,
          -118.24,
          -118.26,
          -118.26,
          -118.24,
          -118.31,
          -118.26,
          -118.45,
          -118.24,
          -118.25,
          -118.25,
          -118.24,
          -118.27,
          -118.26,
          -118.25,
          -118.24,
          -118.25,
          -118.26,
          -118.26,
          -118.24,
          -118.26,
          -118.24,
          -118.25,
          -118.24,
          -118.23,
          -118.26,
          -118.26,
          -118.26,
          -118.22,
          -118.25,
          -118.3,
          -118.24,
          -118.25,
          -118.26,
          -118.38,
          -118.26,
          -118.24,
          -118.23,
          -118.26,
          -118.25,
          -118.26,
          -118.25,
          -118.25,
          -118.26,
          -118.24,
          -118.25,
          -118.25,
          -118.25,
          -118.23,
          -118.26,
          -118.25,
          -118.25,
          -118.24,
          -118.25,
          -118.26,
          -118.24,
          -118.25,
          -118.25,
          -118.25,
          -118.27,
          -118.24,
          -118.25,
          -118.25,
          -118.24,
          -118.24,
          -118.24,
          -118.21,
          -118.26,
          -118.25,
          -118.26,
          -118.26,
          -118.26,
          -118.25,
          -118.25,
          -118.42,
          -118.24,
          -118.24,
          -118.25,
          -118.24,
          -118.23,
          -118.26,
          -118.24,
          -118.25,
          -118.26,
          -118.25,
          -118.25,
          -118.25,
          -118.26,
          -118.26,
          -118.26,
          -118.19,
          -118.26,
          -118.25,
          -118.26,
          -118.26,
          -118.27,
          -118.24,
          -118.26,
          -118.25,
          -118.25,
          -118.24,
          -118.27,
          -118.25,
          -118.26,
          -118.24,
          -118.25,
          -118.24,
          -118.27,
          -118.26,
          -118.26,
          -118.27,
          -118.26,
          -118.24,
          -118.26,
          -118.24,
          -118.23,
          -118.23,
          -118.23,
          -118.26,
          -118.24,
          -118.25,
          -118.25,
          -118.27,
          -118.27,
          -118.26,
          -118.25,
          -118.26,
          -118.26,
          -118.25,
          -118.24,
          -118.25,
          -118.26,
          -118.26,
          -118.24,
          -118.24,
          -118.25,
          -118.27,
          -118.36,
          -118.24,
          -118.24,
          -118.26,
          -118.27,
          -118.24,
          -118.24,
          -118.26,
          -118.25,
          -118.26,
          -118.24,
          -118.25,
          -118.26,
          -118.23,
          -118.24,
          -118.24,
          -118.26,
          -118.27,
          -118.26,
          -118.24,
          -118.33,
          -118.34,
          -118.3,
          -118.24,
          -118.26,
          -118.26,
          -118.26,
          -118.25,
          -118.26,
          -118.26,
          -118.25,
          -118.37,
          -118.24,
          -118.25,
          -118.24,
          -118.26,
          -118.27,
          -118.23,
          -118.24,
          -118.25,
          -118.24,
          -118.24,
          -118.25,
          -118.26,
          -118.24,
          -118.26,
          -118.25,
          -118.23,
          -118.24,
          -118.27,
          -118.24,
          -118.24,
          -118.26,
          -118.27,
          -118.25,
          -118.26,
          -118.25,
          -118.24,
          -118.27,
          -118.24,
          -118.25,
          -118.24,
          -118.25,
          -118.25,
          -118.24,
          -118.25,
          -118.27,
          -118.23,
          -118.26,
          -118.25,
          -118.26,
          -118.24,
          -118.24,
          -118.26,
          -118.25,
          -118.25,
          -118.23,
          -118.24,
          -118.24,
          -118.26,
          -118.25,
          -118.25,
          -118.24,
          -118.27,
          -118.24,
          -118.25,
          -118.24,
          -118.26,
          -118.25,
          -118.27,
          -118.26,
          -118.24,
          -118.46,
          -118.24,
          -118.24,
          -118.56,
          -118.26,
          -118.25,
          -118.24,
          -118.26,
          -118.25,
          -118.26,
          -118.25,
          -118.25,
          -118.26,
          -118.27,
          -118.26,
          -118.26,
          -118.27,
          -118.26,
          -118.25,
          -118.25,
          -118.26,
          -118.24,
          -118.26,
          -118.27,
          -118.26,
          -118.26,
          -118.28,
          -118.28,
          -118.25,
          -118.27,
          -118.25,
          -118.25,
          -118.24,
          -118.24,
          -118.33,
          -118.25,
          -118.25,
          -118.29,
          -118.23,
          -118.25,
          -118.26,
          -118.26,
          -118.25,
          -118.25,
          -118.29,
          -118.32,
          -118.41,
          -118.32,
          -118.3,
          -118.3,
          -118.47,
          -118.29,
          -118.34,
          -118.22,
          -118.2,
          -118.27,
          -118.24,
          -118.26,
          -118.26,
          -118.31,
          -118.56,
          -118.22,
          -118.33,
          -118.31,
          -118.19,
          -118.27,
          -118.29,
          -118.33,
          -118.31,
          -118.19,
          -118.28,
          -118.31,
          -118.44,
          -118.22,
          -118.35,
          -118.25,
          -118.24,
          -118.2,
          -118.25,
          -118.24,
          -118.29,
          -118.24,
          -118.26,
          -118.25,
          -118.25,
          -118.26,
          -118.24,
          -118.24,
          -118.26,
          -118.24,
          -118.26,
          -118.26,
          -118.26,
          -118.26,
          -118.25,
          -118.26,
          -118.26,
          -118.26,
          -118.26,
          -118.27,
          -118.25,
          -118.26,
          -118.23,
          -118.25,
          -118.26,
          -118.26,
          -118.26,
          -118.25,
          -118.23,
          -118.44,
          -118.28,
          -118.26,
          -118.25,
          -118.23,
          -118.26,
          -118.24,
          -118.31,
          -118.27,
          -118.26,
          -118.25,
          -118.25,
          -118.25,
          -118.25,
          -118.25,
          -118.26,
          -118.25,
          -118.25,
          -118.26,
          -118.26,
          -118.26,
          -118.26,
          -118.24,
          -118.26,
          -118.26,
          -118.25,
          -118.23,
          -118.24,
          -118.26,
          -118.25,
          -118.24,
          -118.25,
          -118.25,
          -118.25,
          -118.24,
          -118.35,
          -118.2,
          -118.25,
          -118.25,
          -118.25,
          -118.26,
          -118.23,
          -118.25,
          -118.26,
          -118.24,
          -118.24,
          -118.26,
          -118.25,
          -118.27,
          -118.23,
          -118.3,
          -118.44,
          -118.25,
          -118.25,
          -118.24,
          -118.24,
          -118.25,
          -118.26,
          -118.25,
          -118.26,
          -118.29,
          -118.26,
          -118.25,
          -118.24,
          -118.3,
          -118.4,
          -118.26,
          -118.25,
          -118.24,
          -118.26,
          -118.23,
          -118.26,
          -118.24,
          -118.26,
          -118.24,
          -118.25,
          -118.24,
          -118.25,
          -118.37,
          -118.24,
          -118.26,
          -118.24,
          -118.24,
          -118.26,
          -118.26,
          -118.26,
          -118.26,
          -118.24,
          -118.26,
          -118.23,
          -118.35,
          -118.3,
          -118.23,
          -118.26,
          -118.23,
          -118.26,
          -118.26,
          -118.24,
          -118.24,
          -118.24,
          -118.25,
          -118.26,
          -118.26,
          -118.25,
          -118.25,
          -118.24
         ],
         "xaxis": "x",
         "y": [
          34.01,
          34.05,
          34.17,
          34.22,
          34.05,
          34.04,
          34.07,
          34.04,
          34.06,
          34.05,
          34.05,
          34.05,
          34.2,
          34.08,
          34.05,
          34.05,
          34.04,
          34.07,
          34.05,
          34.05,
          34.05,
          34.05,
          34.06,
          34.04,
          34.05,
          34.03,
          34.06,
          34.05,
          34.05,
          34.05,
          34.05,
          34.04,
          34.05,
          34.05,
          34.05,
          34.06,
          34.04,
          34.06,
          34.05,
          34.04,
          34.05,
          34.03,
          34.05,
          34.04,
          34.05,
          34.06,
          34.18,
          34.05,
          34.04,
          34.04,
          34.05,
          34.05,
          34.05,
          34.04,
          34.05,
          34.04,
          34.06,
          34.05,
          34.05,
          34.04,
          33.81,
          34.05,
          34.01,
          34.05,
          34.05,
          34.04,
          34.05,
          34.04,
          34.05,
          34.04,
          34.05,
          34.05,
          34.05,
          34.05,
          34.04,
          34.05,
          34.04,
          34.05,
          34.05,
          34.04,
          34.05,
          34.04,
          34.04,
          34.08,
          34.04,
          34.01,
          34.06,
          34.04,
          34.04,
          34.06,
          34.05,
          34.06,
          34.04,
          34.05,
          34.04,
          34.05,
          34.05,
          34.05,
          34.05,
          34.06,
          34.05,
          34.04,
          34.07,
          34.07,
          34.05,
          34.05,
          34.04,
          34.06,
          34.04,
          34.05,
          34.05,
          34.04,
          34.04,
          34.04,
          34.04,
          34.06,
          34.05,
          34.05,
          34.06,
          34.04,
          34.06,
          34.04,
          34.04,
          34.05,
          34.04,
          34.03,
          34.05,
          34.05,
          34.05,
          34.11,
          34.05,
          34.06,
          34.04,
          34.06,
          34.04,
          34.05,
          34.04,
          34.05,
          34.05,
          34.05,
          34.04,
          34.06,
          34.05,
          34.03,
          34.04,
          34.12,
          34.05,
          34.05,
          34.05,
          34.05,
          34.04,
          34.06,
          34.05,
          34.05,
          34.05,
          34.04,
          34.04,
          34.04,
          34.04,
          34.05,
          34.04,
          34.05,
          34.04,
          34.05,
          34.05,
          34.04,
          34.05,
          34.05,
          34.05,
          34.04,
          34.07,
          34.06,
          34.06,
          34.05,
          34.05,
          34.06,
          34.05,
          34.05,
          34.04,
          34.05,
          34.07,
          34.05,
          34.04,
          34.05,
          34.05,
          34.04,
          34.04,
          34.04,
          34.04,
          34.05,
          34.04,
          34.04,
          34.27,
          34.05,
          34.05,
          34.05,
          34.04,
          34.05,
          34.06,
          34.05,
          34.04,
          34.05,
          34.06,
          34.05,
          34.05,
          34.07,
          34.06,
          34.06,
          34.04,
          34.03,
          34.05,
          34.05,
          34.1,
          34.1,
          34.02,
          34.06,
          34.05,
          34.04,
          34.05,
          34.04,
          34.05,
          34.05,
          34.04,
          34.23,
          34.06,
          34.04,
          34.05,
          34.04,
          34.04,
          34.05,
          34.05,
          34.05,
          34.04,
          34.04,
          34.05,
          34.04,
          34.04,
          34.05,
          34.05,
          34.04,
          34.05,
          34.06,
          34.05,
          34.05,
          34.05,
          34.04,
          34.04,
          34.04,
          34.05,
          34.06,
          34.04,
          34.04,
          34.05,
          34.04,
          34.05,
          34.04,
          34.05,
          34.05,
          34.04,
          34.07,
          34.03,
          34.06,
          34.04,
          34.06,
          34.05,
          34.05,
          34.05,
          34.05,
          34.06,
          34.06,
          34.06,
          34.05,
          34.07,
          34.05,
          34.04,
          34.04,
          34.06,
          34.05,
          34.04,
          34.04,
          34.05,
          34.04,
          34.04,
          34.05,
          34.2,
          34.06,
          34.05,
          34.21,
          34.05,
          34.04,
          34.04,
          34.05,
          34.05,
          34.05,
          34.05,
          34.05,
          34.05,
          34.04,
          34.05,
          34.05,
          34.05,
          34.05,
          34.05,
          34.05,
          34.04,
          34.06,
          34.04,
          34.05,
          34.05,
          34.05,
          33.78,
          34.05,
          34.04,
          34.04,
          34.05,
          34.05,
          34.06,
          34.05,
          34.1,
          34.04,
          34.04,
          33.72,
          34.05,
          34.06,
          34.04,
          34.08,
          34.04,
          34.04,
          33.79,
          33.98,
          34.21,
          34.1,
          34.08,
          34.05,
          34.28,
          33.71,
          34.06,
          34.14,
          34.02,
          34.06,
          34.05,
          34.06,
          34.05,
          33.85,
          34.21,
          34.07,
          34.1,
          33.78,
          34.11,
          34.04,
          33.74,
          33.98,
          33.99,
          34.11,
          34.09,
          33.99,
          34.08,
          34.11,
          34.02,
          34.05,
          34.05,
          34.14,
          34.04,
          34.06,
          33.74,
          34.06,
          34.05,
          34.05,
          34.04,
          34.05,
          34.06,
          34.06,
          34.04,
          34.06,
          34.05,
          34.05,
          34.05,
          34.05,
          34.05,
          34.05,
          34.04,
          34.05,
          34.05,
          34.04,
          34.04,
          34.04,
          34.05,
          34.05,
          34.04,
          34.04,
          34.05,
          34.05,
          34.06,
          34.05,
          34.09,
          34.04,
          34.05,
          34.05,
          34.04,
          34.05,
          33.99,
          34.04,
          34.06,
          34.05,
          34.06,
          34.04,
          34.05,
          34.05,
          34.05,
          34.05,
          34.04,
          34.05,
          34.04,
          34.04,
          34.05,
          34.05,
          34.04,
          33.96,
          34.05,
          34.05,
          34.05,
          34.05,
          34.04,
          34.06,
          34.05,
          34.05,
          34.04,
          34.05,
          34.09,
          34.13,
          34.05,
          34.05,
          34.05,
          34.04,
          34.06,
          34.05,
          34.04,
          34.06,
          34.06,
          34.05,
          34.04,
          34.04,
          34.05,
          33.75,
          34.16,
          34.05,
          34.04,
          34.05,
          34.06,
          34.05,
          34.05,
          34.05,
          34.05,
          33.74,
          34.05,
          34.05,
          34.06,
          33.8,
          34.04,
          34.05,
          34.04,
          34.06,
          34.04,
          34.07,
          34.04,
          34.04,
          34.05,
          34.04,
          34.04,
          34.04,
          34.04,
          34.07,
          34.07,
          34.05,
          34.11,
          34.05,
          34.05,
          34.05,
          34.05,
          34.05,
          34.06,
          34.05,
          34.07,
          34.08,
          34.1,
          34.07,
          34.05,
          34.14,
          34.05,
          34.05,
          34.04,
          34.06,
          34.04,
          34.05,
          34.05,
          34.05,
          34.05,
          34.05,
          34.05
         ],
         "yaxis": "y"
        }
       ],
       "layout": {
        "autosize": true,
        "legend": {
         "tracegroupgap": 0
        },
        "template": {
         "data": {
          "bar": [
           {
            "error_x": {
             "color": "#2a3f5f"
            },
            "error_y": {
             "color": "#2a3f5f"
            },
            "marker": {
             "line": {
              "color": "#E5ECF6",
              "width": 0.5
             },
             "pattern": {
              "fillmode": "overlay",
              "size": 10,
              "solidity": 0.2
             }
            },
            "type": "bar"
           }
          ],
          "barpolar": [
           {
            "marker": {
             "line": {
              "color": "#E5ECF6",
              "width": 0.5
             },
             "pattern": {
              "fillmode": "overlay",
              "size": 10,
              "solidity": 0.2
             }
            },
            "type": "barpolar"
           }
          ],
          "carpet": [
           {
            "aaxis": {
             "endlinecolor": "#2a3f5f",
             "gridcolor": "white",
             "linecolor": "white",
             "minorgridcolor": "white",
             "startlinecolor": "#2a3f5f"
            },
            "baxis": {
             "endlinecolor": "#2a3f5f",
             "gridcolor": "white",
             "linecolor": "white",
             "minorgridcolor": "white",
             "startlinecolor": "#2a3f5f"
            },
            "type": "carpet"
           }
          ],
          "choropleth": [
           {
            "colorbar": {
             "outlinewidth": 0,
             "ticks": ""
            },
            "type": "choropleth"
           }
          ],
          "contour": [
           {
            "colorbar": {
             "outlinewidth": 0,
             "ticks": ""
            },
            "colorscale": [
             [
              0,
              "#0d0887"
             ],
             [
              0.1111111111111111,
              "#46039f"
             ],
             [
              0.2222222222222222,
              "#7201a8"
             ],
             [
              0.3333333333333333,
              "#9c179e"
             ],
             [
              0.4444444444444444,
              "#bd3786"
             ],
             [
              0.5555555555555556,
              "#d8576b"
             ],
             [
              0.6666666666666666,
              "#ed7953"
             ],
             [
              0.7777777777777778,
              "#fb9f3a"
             ],
             [
              0.8888888888888888,
              "#fdca26"
             ],
             [
              1,
              "#f0f921"
             ]
            ],
            "type": "contour"
           }
          ],
          "contourcarpet": [
           {
            "colorbar": {
             "outlinewidth": 0,
             "ticks": ""
            },
            "type": "contourcarpet"
           }
          ],
          "heatmap": [
           {
            "colorbar": {
             "outlinewidth": 0,
             "ticks": ""
            },
            "colorscale": [
             [
              0,
              "#0d0887"
             ],
             [
              0.1111111111111111,
              "#46039f"
             ],
             [
              0.2222222222222222,
              "#7201a8"
             ],
             [
              0.3333333333333333,
              "#9c179e"
             ],
             [
              0.4444444444444444,
              "#bd3786"
             ],
             [
              0.5555555555555556,
              "#d8576b"
             ],
             [
              0.6666666666666666,
              "#ed7953"
             ],
             [
              0.7777777777777778,
              "#fb9f3a"
             ],
             [
              0.8888888888888888,
              "#fdca26"
             ],
             [
              1,
              "#f0f921"
             ]
            ],
            "type": "heatmap"
           }
          ],
          "heatmapgl": [
           {
            "colorbar": {
             "outlinewidth": 0,
             "ticks": ""
            },
            "colorscale": [
             [
              0,
              "#0d0887"
             ],
             [
              0.1111111111111111,
              "#46039f"
             ],
             [
              0.2222222222222222,
              "#7201a8"
             ],
             [
              0.3333333333333333,
              "#9c179e"
             ],
             [
              0.4444444444444444,
              "#bd3786"
             ],
             [
              0.5555555555555556,
              "#d8576b"
             ],
             [
              0.6666666666666666,
              "#ed7953"
             ],
             [
              0.7777777777777778,
              "#fb9f3a"
             ],
             [
              0.8888888888888888,
              "#fdca26"
             ],
             [
              1,
              "#f0f921"
             ]
            ],
            "type": "heatmapgl"
           }
          ],
          "histogram": [
           {
            "marker": {
             "pattern": {
              "fillmode": "overlay",
              "size": 10,
              "solidity": 0.2
             }
            },
            "type": "histogram"
           }
          ],
          "histogram2d": [
           {
            "colorbar": {
             "outlinewidth": 0,
             "ticks": ""
            },
            "colorscale": [
             [
              0,
              "#0d0887"
             ],
             [
              0.1111111111111111,
              "#46039f"
             ],
             [
              0.2222222222222222,
              "#7201a8"
             ],
             [
              0.3333333333333333,
              "#9c179e"
             ],
             [
              0.4444444444444444,
              "#bd3786"
             ],
             [
              0.5555555555555556,
              "#d8576b"
             ],
             [
              0.6666666666666666,
              "#ed7953"
             ],
             [
              0.7777777777777778,
              "#fb9f3a"
             ],
             [
              0.8888888888888888,
              "#fdca26"
             ],
             [
              1,
              "#f0f921"
             ]
            ],
            "type": "histogram2d"
           }
          ],
          "histogram2dcontour": [
           {
            "colorbar": {
             "outlinewidth": 0,
             "ticks": ""
            },
            "colorscale": [
             [
              0,
              "#0d0887"
             ],
             [
              0.1111111111111111,
              "#46039f"
             ],
             [
              0.2222222222222222,
              "#7201a8"
             ],
             [
              0.3333333333333333,
              "#9c179e"
             ],
             [
              0.4444444444444444,
              "#bd3786"
             ],
             [
              0.5555555555555556,
              "#d8576b"
             ],
             [
              0.6666666666666666,
              "#ed7953"
             ],
             [
              0.7777777777777778,
              "#fb9f3a"
             ],
             [
              0.8888888888888888,
              "#fdca26"
             ],
             [
              1,
              "#f0f921"
             ]
            ],
            "type": "histogram2dcontour"
           }
          ],
          "mesh3d": [
           {
            "colorbar": {
             "outlinewidth": 0,
             "ticks": ""
            },
            "type": "mesh3d"
           }
          ],
          "parcoords": [
           {
            "line": {
             "colorbar": {
              "outlinewidth": 0,
              "ticks": ""
             }
            },
            "type": "parcoords"
           }
          ],
          "pie": [
           {
            "automargin": true,
            "type": "pie"
           }
          ],
          "scatter": [
           {
            "fillpattern": {
             "fillmode": "overlay",
             "size": 10,
             "solidity": 0.2
            },
            "type": "scatter"
           }
          ],
          "scatter3d": [
           {
            "line": {
             "colorbar": {
              "outlinewidth": 0,
              "ticks": ""
             }
            },
            "marker": {
             "colorbar": {
              "outlinewidth": 0,
              "ticks": ""
             }
            },
            "type": "scatter3d"
           }
          ],
          "scattercarpet": [
           {
            "marker": {
             "colorbar": {
              "outlinewidth": 0,
              "ticks": ""
             }
            },
            "type": "scattercarpet"
           }
          ],
          "scattergeo": [
           {
            "marker": {
             "colorbar": {
              "outlinewidth": 0,
              "ticks": ""
             }
            },
            "type": "scattergeo"
           }
          ],
          "scattergl": [
           {
            "marker": {
             "colorbar": {
              "outlinewidth": 0,
              "ticks": ""
             }
            },
            "type": "scattergl"
           }
          ],
          "scattermapbox": [
           {
            "marker": {
             "colorbar": {
              "outlinewidth": 0,
              "ticks": ""
             }
            },
            "type": "scattermapbox"
           }
          ],
          "scatterpolar": [
           {
            "marker": {
             "colorbar": {
              "outlinewidth": 0,
              "ticks": ""
             }
            },
            "type": "scatterpolar"
           }
          ],
          "scatterpolargl": [
           {
            "marker": {
             "colorbar": {
              "outlinewidth": 0,
              "ticks": ""
             }
            },
            "type": "scatterpolargl"
           }
          ],
          "scatterternary": [
           {
            "marker": {
             "colorbar": {
              "outlinewidth": 0,
              "ticks": ""
             }
            },
            "type": "scatterternary"
           }
          ],
          "surface": [
           {
            "colorbar": {
             "outlinewidth": 0,
             "ticks": ""
            },
            "colorscale": [
             [
              0,
              "#0d0887"
             ],
             [
              0.1111111111111111,
              "#46039f"
             ],
             [
              0.2222222222222222,
              "#7201a8"
             ],
             [
              0.3333333333333333,
              "#9c179e"
             ],
             [
              0.4444444444444444,
              "#bd3786"
             ],
             [
              0.5555555555555556,
              "#d8576b"
             ],
             [
              0.6666666666666666,
              "#ed7953"
             ],
             [
              0.7777777777777778,
              "#fb9f3a"
             ],
             [
              0.8888888888888888,
              "#fdca26"
             ],
             [
              1,
              "#f0f921"
             ]
            ],
            "type": "surface"
           }
          ],
          "table": [
           {
            "cells": {
             "fill": {
              "color": "#EBF0F8"
             },
             "line": {
              "color": "white"
             }
            },
            "header": {
             "fill": {
              "color": "#C8D4E3"
             },
             "line": {
              "color": "white"
             }
            },
            "type": "table"
           }
          ]
         },
         "layout": {
          "annotationdefaults": {
           "arrowcolor": "#2a3f5f",
           "arrowhead": 0,
           "arrowwidth": 1
          },
          "autotypenumbers": "strict",
          "coloraxis": {
           "colorbar": {
            "outlinewidth": 0,
            "ticks": ""
           }
          },
          "colorscale": {
           "diverging": [
            [
             0,
             "#8e0152"
            ],
            [
             0.1,
             "#c51b7d"
            ],
            [
             0.2,
             "#de77ae"
            ],
            [
             0.3,
             "#f1b6da"
            ],
            [
             0.4,
             "#fde0ef"
            ],
            [
             0.5,
             "#f7f7f7"
            ],
            [
             0.6,
             "#e6f5d0"
            ],
            [
             0.7,
             "#b8e186"
            ],
            [
             0.8,
             "#7fbc41"
            ],
            [
             0.9,
             "#4d9221"
            ],
            [
             1,
             "#276419"
            ]
           ],
           "sequential": [
            [
             0,
             "#0d0887"
            ],
            [
             0.1111111111111111,
             "#46039f"
            ],
            [
             0.2222222222222222,
             "#7201a8"
            ],
            [
             0.3333333333333333,
             "#9c179e"
            ],
            [
             0.4444444444444444,
             "#bd3786"
            ],
            [
             0.5555555555555556,
             "#d8576b"
            ],
            [
             0.6666666666666666,
             "#ed7953"
            ],
            [
             0.7777777777777778,
             "#fb9f3a"
            ],
            [
             0.8888888888888888,
             "#fdca26"
            ],
            [
             1,
             "#f0f921"
            ]
           ],
           "sequentialminus": [
            [
             0,
             "#0d0887"
            ],
            [
             0.1111111111111111,
             "#46039f"
            ],
            [
             0.2222222222222222,
             "#7201a8"
            ],
            [
             0.3333333333333333,
             "#9c179e"
            ],
            [
             0.4444444444444444,
             "#bd3786"
            ],
            [
             0.5555555555555556,
             "#d8576b"
            ],
            [
             0.6666666666666666,
             "#ed7953"
            ],
            [
             0.7777777777777778,
             "#fb9f3a"
            ],
            [
             0.8888888888888888,
             "#fdca26"
            ],
            [
             1,
             "#f0f921"
            ]
           ]
          },
          "colorway": [
           "#636efa",
           "#EF553B",
           "#00cc96",
           "#ab63fa",
           "#FFA15A",
           "#19d3f3",
           "#FF6692",
           "#B6E880",
           "#FF97FF",
           "#FECB52"
          ],
          "font": {
           "color": "#2a3f5f"
          },
          "geo": {
           "bgcolor": "white",
           "lakecolor": "white",
           "landcolor": "#E5ECF6",
           "showlakes": true,
           "showland": true,
           "subunitcolor": "white"
          },
          "hoverlabel": {
           "align": "left"
          },
          "hovermode": "closest",
          "mapbox": {
           "style": "light"
          },
          "paper_bgcolor": "white",
          "plot_bgcolor": "#E5ECF6",
          "polar": {
           "angularaxis": {
            "gridcolor": "white",
            "linecolor": "white",
            "ticks": ""
           },
           "bgcolor": "#E5ECF6",
           "radialaxis": {
            "gridcolor": "white",
            "linecolor": "white",
            "ticks": ""
           }
          },
          "scene": {
           "xaxis": {
            "backgroundcolor": "#E5ECF6",
            "gridcolor": "white",
            "gridwidth": 2,
            "linecolor": "white",
            "showbackground": true,
            "ticks": "",
            "zerolinecolor": "white"
           },
           "yaxis": {
            "backgroundcolor": "#E5ECF6",
            "gridcolor": "white",
            "gridwidth": 2,
            "linecolor": "white",
            "showbackground": true,
            "ticks": "",
            "zerolinecolor": "white"
           },
           "zaxis": {
            "backgroundcolor": "#E5ECF6",
            "gridcolor": "white",
            "gridwidth": 2,
            "linecolor": "white",
            "showbackground": true,
            "ticks": "",
            "zerolinecolor": "white"
           }
          },
          "shapedefaults": {
           "line": {
            "color": "#2a3f5f"
           }
          },
          "ternary": {
           "aaxis": {
            "gridcolor": "white",
            "linecolor": "white",
            "ticks": ""
           },
           "baxis": {
            "gridcolor": "white",
            "linecolor": "white",
            "ticks": ""
           },
           "bgcolor": "#E5ECF6",
           "caxis": {
            "gridcolor": "white",
            "linecolor": "white",
            "ticks": ""
           }
          },
          "title": {
           "x": 0.05
          },
          "xaxis": {
           "automargin": true,
           "gridcolor": "white",
           "linecolor": "white",
           "ticks": "",
           "title": {
            "standoff": 15
           },
           "zerolinecolor": "white",
           "zerolinewidth": 2
          },
          "yaxis": {
           "automargin": true,
           "gridcolor": "white",
           "linecolor": "white",
           "ticks": "",
           "title": {
            "standoff": 15
           },
           "zerolinecolor": "white",
           "zerolinewidth": 2
          }
         }
        },
        "title": {
         "text": "crime occurrences(spatial)"
        },
        "xaxis": {
         "anchor": "y",
         "autorange": true,
         "domain": [
          0,
          1
         ],
         "range": [
          -118.58235930735931,
          -118.16764069264069
         ],
         "title": {
          "text": "LON"
         },
         "type": "linear"
        },
        "yaxis": {
         "anchor": "x",
         "autorange": true,
         "domain": [
          0,
          1
         ],
         "range": [
          33.66296116504854,
          34.32703883495146
         ],
         "title": {
          "text": "LAT"
         },
         "type": "linear"
        }
       }
      },
      "image/png": "[encoded data removed]",
      "text/html": [
       "<div>                            <div id=\"d12409ee-d99e-493e-a50c-fbe0048d13ad\" class=\"plotly-graph-div\" style=\"height:525px; width:100%;\"></div>            <script type=\"text/javascript\">                require([\"plotly\"], function(Plotly) {                    window.PLOTLYENV=window.PLOTLYENV || {};                                    if (document.getElementById(\"d12409ee-d99e-493e-a50c-fbe0048d13ad\")) {                    Plotly.newPlot(                        \"d12409ee-d99e-493e-a50c-fbe0048d13ad\",                        [{\"hovertemplate\":\"LON=%{x}<br>LAT=%{y}<extra></extra>\",\"legendgroup\":\"\",\"marker\":{\"color\":\"#636efa\",\"symbol\":\"circle\"},\"mode\":\"markers\",\"name\":\"\",\"orientation\":\"v\",\"showlegend\":false,\"x\":[-118.3,-118.25,-118.4,-118.45,-118.26,-118.25,-118.24,-118.26,-118.24,-118.26,-118.26,-118.24,-118.43,-118.37,-118.25,-118.26,-118.25,-118.28,-118.26,-118.25,-118.25,-118.26,-118.24,-118.25,-118.26,-118.27,-118.24,-118.25,-118.25,-118.26,-118.25,-118.25,-118.24,-118.25,-118.26,-118.23,-118.26,-118.24,-118.25,-118.25,-118.25,-118.26,-118.26,-118.25,-118.26,-118.24,-118.45,-118.25,-118.24,-118.24,-118.26,-118.24,-118.24,-118.26,-118.25,-118.24,-118.24,-118.26,-118.26,-118.24,-118.31,-118.26,-118.45,-118.24,-118.25,-118.25,-118.24,-118.27,-118.26,-118.25,-118.24,-118.25,-118.26,-118.26,-118.24,-118.26,-118.24,-118.25,-118.24,-118.23,-118.26,-118.26,-118.26,-118.22,-118.25,-118.3,-118.24,-118.25,-118.26,-118.38,-118.26,-118.24,-118.23,-118.26,-118.25,-118.26,-118.25,-118.25,-118.26,-118.24,-118.25,-118.25,-118.25,-118.23,-118.26,-118.25,-118.25,-118.24,-118.25,-118.26,-118.24,-118.25,-118.25,-118.25,-118.27,-118.24,-118.25,-118.25,-118.24,-118.24,-118.24,-118.21,-118.26,-118.25,-118.26,-118.26,-118.26,-118.25,-118.25,-118.42,-118.24,-118.24,-118.25,-118.24,-118.23,-118.26,-118.24,-118.25,-118.26,-118.25,-118.25,-118.25,-118.26,-118.26,-118.26,-118.19,-118.26,-118.25,-118.26,-118.26,-118.27,-118.24,-118.26,-118.25,-118.25,-118.24,-118.27,-118.25,-118.26,-118.24,-118.25,-118.24,-118.27,-118.26,-118.26,-118.27,-118.26,-118.24,-118.26,-118.24,-118.23,-118.23,-118.23,-118.26,-118.24,-118.25,-118.25,-118.27,-118.27,-118.26,-118.25,-118.26,-118.26,-118.25,-118.24,-118.25,-118.26,-118.26,-118.24,-118.24,-118.25,-118.27,-118.36,-118.24,-118.24,-118.26,-118.27,-118.24,-118.24,-118.26,-118.25,-118.26,-118.24,-118.25,-118.26,-118.23,-118.24,-118.24,-118.26,-118.27,-118.26,-118.24,-118.33,-118.34,-118.3,-118.24,-118.26,-118.26,-118.26,-118.25,-118.26,-118.26,-118.25,-118.37,-118.24,-118.25,-118.24,-118.26,-118.27,-118.23,-118.24,-118.25,-118.24,-118.24,-118.25,-118.26,-118.24,-118.26,-118.25,-118.23,-118.24,-118.27,-118.24,-118.24,-118.26,-118.27,-118.25,-118.26,-118.25,-118.24,-118.27,-118.24,-118.25,-118.24,-118.25,-118.25,-118.24,-118.25,-118.27,-118.23,-118.26,-118.25,-118.26,-118.24,-118.24,-118.26,-118.25,-118.25,-118.23,-118.24,-118.24,-118.26,-118.25,-118.25,-118.24,-118.27,-118.24,-118.25,-118.24,-118.26,-118.25,-118.27,-118.26,-118.24,-118.46,-118.24,-118.24,-118.56,-118.26,-118.25,-118.24,-118.26,-118.25,-118.26,-118.25,-118.25,-118.26,-118.27,-118.26,-118.26,-118.27,-118.26,-118.25,-118.25,-118.26,-118.24,-118.26,-118.27,-118.26,-118.26,-118.28,-118.28,-118.25,-118.27,-118.25,-118.25,-118.24,-118.24,-118.33,-118.25,-118.25,-118.29,-118.23,-118.25,-118.26,-118.26,-118.25,-118.25,-118.29,-118.32,-118.41,-118.32,-118.3,-118.3,-118.47,-118.29,-118.34,-118.22,-118.2,-118.27,-118.24,-118.26,-118.26,-118.31,-118.56,-118.22,-118.33,-118.31,-118.19,-118.27,-118.29,-118.33,-118.31,-118.19,-118.28,-118.31,-118.44,-118.22,-118.35,-118.25,-118.24,-118.2,-118.25,-118.24,-118.29,-118.24,-118.26,-118.25,-118.25,-118.26,-118.24,-118.24,-118.26,-118.24,-118.26,-118.26,-118.26,-118.26,-118.25,-118.26,-118.26,-118.26,-118.26,-118.27,-118.25,-118.26,-118.23,-118.25,-118.26,-118.26,-118.26,-118.25,-118.23,-118.44,-118.28,-118.26,-118.25,-118.23,-118.26,-118.24,-118.31,-118.27,-118.26,-118.25,-118.25,-118.25,-118.25,-118.25,-118.26,-118.25,-118.25,-118.26,-118.26,-118.26,-118.26,-118.24,-118.26,-118.26,-118.25,-118.23,-118.24,-118.26,-118.25,-118.24,-118.25,-118.25,-118.25,-118.24,-118.35,-118.2,-118.25,-118.25,-118.25,-118.26,-118.23,-118.25,-118.26,-118.24,-118.24,-118.26,-118.25,-118.27,-118.23,-118.3,-118.44,-118.25,-118.25,-118.24,-118.24,-118.25,-118.26,-118.25,-118.26,-118.29,-118.26,-118.25,-118.24,-118.3,-118.4,-118.26,-118.25,-118.24,-118.26,-118.23,-118.26,-118.24,-118.26,-118.24,-118.25,-118.24,-118.25,-118.37,-118.24,-118.26,-118.24,-118.24,-118.26,-118.26,-118.26,-118.26,-118.24,-118.26,-118.23,-118.35,-118.3,-118.23,-118.26,-118.23,-118.26,-118.26,-118.24,-118.24,-118.24,-118.25,-118.26,-118.26,-118.25,-118.25,-118.24],\"xaxis\":\"x\",\"y\":[34.01,34.05,34.17,34.22,34.05,34.04,34.07,34.04,34.06,34.05,34.05,34.05,34.2,34.08,34.05,34.05,34.04,34.07,34.05,34.05,34.05,34.05,34.06,34.04,34.05,34.03,34.06,34.05,34.05,34.05,34.05,34.04,34.05,34.05,34.05,34.06,34.04,34.06,34.05,34.04,34.05,34.03,34.05,34.04,34.05,34.06,34.18,34.05,34.04,34.04,34.05,34.05,34.05,34.04,34.05,34.04,34.06,34.05,34.05,34.04,33.81,34.05,34.01,34.05,34.05,34.04,34.05,34.04,34.05,34.04,34.05,34.05,34.05,34.05,34.04,34.05,34.04,34.05,34.05,34.04,34.05,34.04,34.04,34.08,34.04,34.01,34.06,34.04,34.04,34.06,34.05,34.06,34.04,34.05,34.04,34.05,34.05,34.05,34.05,34.06,34.05,34.04,34.07,34.07,34.05,34.05,34.04,34.06,34.04,34.05,34.05,34.04,34.04,34.04,34.04,34.06,34.05,34.05,34.06,34.04,34.06,34.04,34.04,34.05,34.04,34.03,34.05,34.05,34.05,34.11,34.05,34.06,34.04,34.06,34.04,34.05,34.04,34.05,34.05,34.05,34.04,34.06,34.05,34.03,34.04,34.12,34.05,34.05,34.05,34.05,34.04,34.06,34.05,34.05,34.05,34.04,34.04,34.04,34.04,34.05,34.04,34.05,34.04,34.05,34.05,34.04,34.05,34.05,34.05,34.04,34.07,34.06,34.06,34.05,34.05,34.06,34.05,34.05,34.04,34.05,34.07,34.05,34.04,34.05,34.05,34.04,34.04,34.04,34.04,34.05,34.04,34.04,34.27,34.05,34.05,34.05,34.04,34.05,34.06,34.05,34.04,34.05,34.06,34.05,34.05,34.07,34.06,34.06,34.04,34.03,34.05,34.05,34.1,34.1,34.02,34.06,34.05,34.04,34.05,34.04,34.05,34.05,34.04,34.23,34.06,34.04,34.05,34.04,34.04,34.05,34.05,34.05,34.04,34.04,34.05,34.04,34.04,34.05,34.05,34.04,34.05,34.06,34.05,34.05,34.05,34.04,34.04,34.04,34.05,34.06,34.04,34.04,34.05,34.04,34.05,34.04,34.05,34.05,34.04,34.07,34.03,34.06,34.04,34.06,34.05,34.05,34.05,34.05,34.06,34.06,34.06,34.05,34.07,34.05,34.04,34.04,34.06,34.05,34.04,34.04,34.05,34.04,34.04,34.05,34.2,34.06,34.05,34.21,34.05,34.04,34.04,34.05,34.05,34.05,34.05,34.05,34.05,34.04,34.05,34.05,34.05,34.05,34.05,34.05,34.04,34.06,34.04,34.05,34.05,34.05,33.78,34.05,34.04,34.04,34.05,34.05,34.06,34.05,34.1,34.04,34.04,33.72,34.05,34.06,34.04,34.08,34.04,34.04,33.79,33.98,34.21,34.1,34.08,34.05,34.28,33.71,34.06,34.14,34.02,34.06,34.05,34.06,34.05,33.85,34.21,34.07,34.1,33.78,34.11,34.04,33.74,33.98,33.99,34.11,34.09,33.99,34.08,34.11,34.02,34.05,34.05,34.14,34.04,34.06,33.74,34.06,34.05,34.05,34.04,34.05,34.06,34.06,34.04,34.06,34.05,34.05,34.05,34.05,34.05,34.05,34.04,34.05,34.05,34.04,34.04,34.04,34.05,34.05,34.04,34.04,34.05,34.05,34.06,34.05,34.09,34.04,34.05,34.05,34.04,34.05,33.99,34.04,34.06,34.05,34.06,34.04,34.05,34.05,34.05,34.05,34.04,34.05,34.04,34.04,34.05,34.05,34.04,33.96,34.05,34.05,34.05,34.05,34.04,34.06,34.05,34.05,34.04,34.05,34.09,34.13,34.05,34.05,34.05,34.04,34.06,34.05,34.04,34.06,34.06,34.05,34.04,34.04,34.05,33.75,34.16,34.05,34.04,34.05,34.06,34.05,34.05,34.05,34.05,33.74,34.05,34.05,34.06,33.8,34.04,34.05,34.04,34.06,34.04,34.07,34.04,34.04,34.05,34.04,34.04,34.04,34.04,34.07,34.07,34.05,34.11,34.05,34.05,34.05,34.05,34.05,34.06,34.05,34.07,34.08,34.1,34.07,34.05,34.14,34.05,34.05,34.04,34.06,34.04,34.05,34.05,34.05,34.05,34.05,34.05],\"yaxis\":\"y\",\"type\":\"scatter\"}],                        {\"template\":{\"data\":{\"histogram2dcontour\":[{\"type\":\"histogram2dcontour\",\"colorbar\":{\"outlinewidth\":0,\"ticks\":\"\"},\"colorscale\":[[0.0,\"#0d0887\"],[0.1111111111111111,\"#46039f\"],[0.2222222222222222,\"#7201a8\"],[0.3333333333333333,\"#9c179e\"],[0.4444444444444444,\"#bd3786\"],[0.5555555555555556,\"#d8576b\"],[0.6666666666666666,\"#ed7953\"],[0.7777777777777778,\"#fb9f3a\"],[0.8888888888888888,\"#fdca26\"],[1.0,\"#f0f921\"]]}],\"choropleth\":[{\"type\":\"choropleth\",\"colorbar\":{\"outlinewidth\":0,\"ticks\":\"\"}}],\"histogram2d\":[{\"type\":\"histogram2d\",\"colorbar\":{\"outlinewidth\":0,\"ticks\":\"\"},\"colorscale\":[[0.0,\"#0d0887\"],[0.1111111111111111,\"#46039f\"],[0.2222222222222222,\"#7201a8\"],[0.3333333333333333,\"#9c179e\"],[0.4444444444444444,\"#bd3786\"],[0.5555555555555556,\"#d8576b\"],[0.6666666666666666,\"#ed7953\"],[0.7777777777777778,\"#fb9f3a\"],[0.8888888888888888,\"#fdca26\"],[1.0,\"#f0f921\"]]}],\"heatmap\":[{\"type\":\"heatmap\",\"colorbar\":{\"outlinewidth\":0,\"ticks\":\"\"},\"colorscale\":[[0.0,\"#0d0887\"],[0.1111111111111111,\"#46039f\"],[0.2222222222222222,\"#7201a8\"],[0.3333333333333333,\"#9c179e\"],[0.4444444444444444,\"#bd3786\"],[0.5555555555555556,\"#d8576b\"],[0.6666666666666666,\"#ed7953\"],[0.7777777777777778,\"#fb9f3a\"],[0.8888888888888888,\"#fdca26\"],[1.0,\"#f0f921\"]]}],\"heatmapgl\":[{\"type\":\"heatmapgl\",\"colorbar\":{\"outlinewidth\":0,\"ticks\":\"\"},\"colorscale\":[[0.0,\"#0d0887\"],[0.1111111111111111,\"#46039f\"],[0.2222222222222222,\"#7201a8\"],[0.3333333333333333,\"#9c179e\"],[0.4444444444444444,\"#bd3786\"],[0.5555555555555556,\"#d8576b\"],[0.6666666666666666,\"#ed7953\"],[0.7777777777777778,\"#fb9f3a\"],[0.8888888888888888,\"#fdca26\"],[1.0,\"#f0f921\"]]}],\"contourcarpet\":[{\"type\":\"contourcarpet\",\"colorbar\":{\"outlinewidth\":0,\"ticks\":\"\"}}],\"contour\":[{\"type\":\"contour\",\"colorbar\":{\"outlinewidth\":0,\"ticks\":\"\"},\"colorscale\":[[0.0,\"#0d0887\"],[0.1111111111111111,\"#46039f\"],[0.2222222222222222,\"#7201a8\"],[0.3333333333333333,\"#9c179e\"],[0.4444444444444444,\"#bd3786\"],[0.5555555555555556,\"#d8576b\"],[0.6666666666666666,\"#ed7953\"],[0.7777777777777778,\"#fb9f3a\"],[0.8888888888888888,\"#fdca26\"],[1.0,\"#f0f921\"]]}],\"surface\":[{\"type\":\"surface\",\"colorbar\":{\"outlinewidth\":0,\"ticks\":\"\"},\"colorscale\":[[0.0,\"#0d0887\"],[0.1111111111111111,\"#46039f\"],[0.2222222222222222,\"#7201a8\"],[0.3333333333333333,\"#9c179e\"],[0.4444444444444444,\"#bd3786\"],[0.5555555555555556,\"#d8576b\"],[0.6666666666666666,\"#ed7953\"],[0.7777777777777778,\"#fb9f3a\"],[0.8888888888888888,\"#fdca26\"],[1.0,\"#f0f921\"]]}],\"mesh3d\":[{\"type\":\"mesh3d\",\"colorbar\":{\"outlinewidth\":0,\"ticks\":\"\"}}],\"scatter\":[{\"fillpattern\":{\"fillmode\":\"overlay\",\"size\":10,\"solidity\":0.2},\"type\":\"scatter\"}],\"parcoords\":[{\"type\":\"parcoords\",\"line\":{\"colorbar\":{\"outlinewidth\":0,\"ticks\":\"\"}}}],\"scatterpolargl\":[{\"type\":\"scatterpolargl\",\"marker\":{\"colorbar\":{\"outlinewidth\":0,\"ticks\":\"\"}}}],\"bar\":[{\"error_x\":{\"color\":\"#2a3f5f\"},\"error_y\":{\"color\":\"#2a3f5f\"},\"marker\":{\"line\":{\"color\":\"#E5ECF6\",\"width\":0.5},\"pattern\":{\"fillmode\":\"overlay\",\"size\":10,\"solidity\":0.2}},\"type\":\"bar\"}],\"scattergeo\":[{\"type\":\"scattergeo\",\"marker\":{\"colorbar\":{\"outlinewidth\":0,\"ticks\":\"\"}}}],\"scatterpolar\":[{\"type\":\"scatterpolar\",\"marker\":{\"colorbar\":{\"outlinewidth\":0,\"ticks\":\"\"}}}],\"histogram\":[{\"marker\":{\"pattern\":{\"fillmode\":\"overlay\",\"size\":10,\"solidity\":0.2}},\"type\":\"histogram\"}],\"scattergl\":[{\"type\":\"scattergl\",\"marker\":{\"colorbar\":{\"outlinewidth\":0,\"ticks\":\"\"}}}],\"scatter3d\":[{\"type\":\"scatter3d\",\"line\":{\"colorbar\":{\"outlinewidth\":0,\"ticks\":\"\"}},\"marker\":{\"colorbar\":{\"outlinewidth\":0,\"ticks\":\"\"}}}],\"scattermapbox\":[{\"type\":\"scattermapbox\",\"marker\":{\"colorbar\":{\"outlinewidth\":0,\"ticks\":\"\"}}}],\"scatterternary\":[{\"type\":\"scatterternary\",\"marker\":{\"colorbar\":{\"outlinewidth\":0,\"ticks\":\"\"}}}],\"scattercarpet\":[{\"type\":\"scattercarpet\",\"marker\":{\"colorbar\":{\"outlinewidth\":0,\"ticks\":\"\"}}}],\"carpet\":[{\"aaxis\":{\"endlinecolor\":\"#2a3f5f\",\"gridcolor\":\"white\",\"linecolor\":\"white\",\"minorgridcolor\":\"white\",\"startlinecolor\":\"#2a3f5f\"},\"baxis\":{\"endlinecolor\":\"#2a3f5f\",\"gridcolor\":\"white\",\"linecolor\":\"white\",\"minorgridcolor\":\"white\",\"startlinecolor\":\"#2a3f5f\"},\"type\":\"carpet\"}],\"table\":[{\"cells\":{\"fill\":{\"color\":\"#EBF0F8\"},\"line\":{\"color\":\"white\"}},\"header\":{\"fill\":{\"color\":\"#C8D4E3\"},\"line\":{\"color\":\"white\"}},\"type\":\"table\"}],\"barpolar\":[{\"marker\":{\"line\":{\"color\":\"#E5ECF6\",\"width\":0.5},\"pattern\":{\"fillmode\":\"overlay\",\"size\":10,\"solidity\":0.2}},\"type\":\"barpolar\"}],\"pie\":[{\"automargin\":true,\"type\":\"pie\"}]},\"layout\":{\"autotypenumbers\":\"strict\",\"colorway\":[\"#636efa\",\"#EF553B\",\"#00cc96\",\"#ab63fa\",\"#FFA15A\",\"#19d3f3\",\"#FF6692\",\"#B6E880\",\"#FF97FF\",\"#FECB52\"],\"font\":{\"color\":\"#2a3f5f\"},\"hovermode\":\"closest\",\"hoverlabel\":{\"align\":\"left\"},\"paper_bgcolor\":\"white\",\"plot_bgcolor\":\"#E5ECF6\",\"polar\":{\"bgcolor\":\"#E5ECF6\",\"angularaxis\":{\"gridcolor\":\"white\",\"linecolor\":\"white\",\"ticks\":\"\"},\"radialaxis\":{\"gridcolor\":\"white\",\"linecolor\":\"white\",\"ticks\":\"\"}},\"ternary\":{\"bgcolor\":\"#E5ECF6\",\"aaxis\":{\"gridcolor\":\"white\",\"linecolor\":\"white\",\"ticks\":\"\"},\"baxis\":{\"gridcolor\":\"white\",\"linecolor\":\"white\",\"ticks\":\"\"},\"caxis\":{\"gridcolor\":\"white\",\"linecolor\":\"white\",\"ticks\":\"\"}},\"coloraxis\":{\"colorbar\":{\"outlinewidth\":0,\"ticks\":\"\"}},\"colorscale\":{\"sequential\":[[0.0,\"#0d0887\"],[0.1111111111111111,\"#46039f\"],[0.2222222222222222,\"#7201a8\"],[0.3333333333333333,\"#9c179e\"],[0.4444444444444444,\"#bd3786\"],[0.5555555555555556,\"#d8576b\"],[0.6666666666666666,\"#ed7953\"],[0.7777777777777778,\"#fb9f3a\"],[0.8888888888888888,\"#fdca26\"],[1.0,\"#f0f921\"]],\"sequentialminus\":[[0.0,\"#0d0887\"],[0.1111111111111111,\"#46039f\"],[0.2222222222222222,\"#7201a8\"],[0.3333333333333333,\"#9c179e\"],[0.4444444444444444,\"#bd3786\"],[0.5555555555555556,\"#d8576b\"],[0.6666666666666666,\"#ed7953\"],[0.7777777777777778,\"#fb9f3a\"],[0.8888888888888888,\"#fdca26\"],[1.0,\"#f0f921\"]],\"diverging\":[[0,\"#8e0152\"],[0.1,\"#c51b7d\"],[0.2,\"#de77ae\"],[0.3,\"#f1b6da\"],[0.4,\"#fde0ef\"],[0.5,\"#f7f7f7\"],[0.6,\"#e6f5d0\"],[0.7,\"#b8e186\"],[0.8,\"#7fbc41\"],[0.9,\"#4d9221\"],[1,\"#276419\"]]},\"xaxis\":{\"gridcolor\":\"white\",\"linecolor\":\"white\",\"ticks\":\"\",\"title\":{\"standoff\":15},\"zerolinecolor\":\"white\",\"automargin\":true,\"zerolinewidth\":2},\"yaxis\":{\"gridcolor\":\"white\",\"linecolor\":\"white\",\"ticks\":\"\",\"title\":{\"standoff\":15},\"zerolinecolor\":\"white\",\"automargin\":true,\"zerolinewidth\":2},\"scene\":{\"xaxis\":{\"backgroundcolor\":\"#E5ECF6\",\"gridcolor\":\"white\",\"linecolor\":\"white\",\"showbackground\":true,\"ticks\":\"\",\"zerolinecolor\":\"white\",\"gridwidth\":2},\"yaxis\":{\"backgroundcolor\":\"#E5ECF6\",\"gridcolor\":\"white\",\"linecolor\":\"white\",\"showbackground\":true,\"ticks\":\"\",\"zerolinecolor\":\"white\",\"gridwidth\":2},\"zaxis\":{\"backgroundcolor\":\"#E5ECF6\",\"gridcolor\":\"white\",\"linecolor\":\"white\",\"showbackground\":true,\"ticks\":\"\",\"zerolinecolor\":\"white\",\"gridwidth\":2}},\"shapedefaults\":{\"line\":{\"color\":\"#2a3f5f\"}},\"annotationdefaults\":{\"arrowcolor\":\"#2a3f5f\",\"arrowhead\":0,\"arrowwidth\":1},\"geo\":{\"bgcolor\":\"white\",\"landcolor\":\"#E5ECF6\",\"subunitcolor\":\"white\",\"showland\":true,\"showlakes\":true,\"lakecolor\":\"white\"},\"title\":{\"x\":0.05},\"mapbox\":{\"style\":\"light\"}}},\"xaxis\":{\"anchor\":\"y\",\"domain\":[0.0,1.0],\"title\":{\"text\":\"LON\"}},\"yaxis\":{\"anchor\":\"x\",\"domain\":[0.0,1.0],\"title\":{\"text\":\"LAT\"}},\"legend\":{\"tracegroupgap\":0},\"title\":{\"text\":\"crime occurrences(spatial)\"}},                        {\"responsive\": true}                    ).then(function(){\n",
       "                            \n",
       "var gd = document.getElementById('d12409ee-d99e-493e-a50c-fbe0048d13ad');\n",
       "var x = new MutationObserver(function (mutations, observer) {{\n",
       "        var display = window.getComputedStyle(gd).display;\n",
       "        if (!display || display === 'none') {{\n",
       "            console.log([gd, 'removed!']);\n",
       "            Plotly.purge(gd);\n",
       "            observer.disconnect();\n",
       "        }}\n",
       "}});\n",
       "\n",
       "// Listen for the removal of the full notebook cells\n",
       "var notebookContainer = gd.closest('#notebook-container');\n",
       "if (notebookContainer) {{\n",
       "    x.observe(notebookContainer, {childList: true});\n",
       "}}\n",
       "\n",
       "// Listen for the clearing of the current output cell\n",
       "var outputEl = gd.closest('.output');\n",
       "if (outputEl) {{\n",
       "    x.observe(outputEl, {childList: true});\n",
       "}}\n",
       "\n",
       "                        })                };                });            </script>        </div>"
      ]
     },
     "metadata": {},
     "output_type": "display_data"
    }
   ],
   "source": [
    "#using matplotlib\n",
    "plt.figure(figsize=(10,8))\n",
    "plt.scatter(df['LON'], df['LAT'], s=15, alpha=0.5, c='blue')\n",
    "plt.xlabel('Longitude')\n",
    "plt.ylabel('Latitude')\n",
    "plt.title('crime occurrences')\n",
    "plt.grid(True)\n",
    "plt.show()\n",
    "\n",
    "#using plotly.express\n",
    "#create scatter plot\n",
    "fig = px.scatter(df, x='LON', y='LAT', title='crime occurrences(spatial)')\n",
    "fig.show()\n"
   ]
  },
  {
   "cell_type": "markdown",
   "id": "970a9c34-8902-4567-a9e5-e6fc1fff53af",
   "metadata": {},
   "source": [
    "6. Victim Demographics: Distribution of Victim Ages and Genders.\n"
   ]
  },
  {
   "cell_type": "code",
   "execution_count": 104,
   "id": "d60f7af4-8a30-4598-aca2-8e3e2c06cc4f",
   "metadata": {},
   "outputs": [
    {
     "data": {
      "image/png": "[encoded data removed]",
      "text/plain": [
       "<Figure size 1000x600 with 1 Axes>"
      ]
     },
     "metadata": {},
     "output_type": "display_data"
    },
    {
     "data": {
      "image/png": "[encoded data removed]",
      "text/plain": [
       "<Figure size 800x600 with 1 Axes>"
      ]
     },
     "metadata": {},
     "output_type": "display_data"
    }
   ],
   "source": [
    "# Distribution of victim ages\n",
    "plt.figure(figsize=(10, 6))\n",
    "crime_data['Vict_Age'].hist(bins=30, edgecolor='black')\n",
    "plt.title('Distribution of Victim Ages')\n",
    "plt.xlabel('Age')\n",
    "plt.ylabel('Frequency')\n",
    "plt.grid(True)\n",
    "plt.show()\n",
    "\n",
    "# Crime rates between male and female victims\n",
    "gender_counts = crime_data['Vict_Sex'].value_counts()\n",
    "\n",
    "plt.figure(figsize=(8, 6))\n",
    "gender_counts.plot(kind='bar', color=['blue', 'orange'])\n",
    "plt.title('Crime Rates by Gender')\n",
    "plt.xlabel('Gender')\n",
    "plt.ylabel('Number of Crimes')\n",
    "plt.xticks(rotation=0)\n",
    "plt.grid(True)\n",
    "plt.show()\n"
   ]
  },
  {
   "cell_type": "markdown",
   "id": "64613d30-0d81-45b9-ad20-4fb6bdcfae0d",
   "metadata": {},
   "source": [
    "7. Status Analysis: Examine the Status of Reported Crimes.\n"
   ]
  },
  {
   "cell_type": "code",
   "execution_count": 105,
   "id": "27f5a3b2-f6f7-4403-98f5-b4c8fd350ae3",
   "metadata": {},
   "outputs": [
    {
     "data": {
      "image/png": "[encoded data removed]",
      "text/plain": [
       "<Figure size 1200x600 with 1 Axes>"
      ]
     },
     "metadata": {},
     "output_type": "display_data"
    }
   ],
   "source": [
    "# Status of reported crimes\n",
    "\n",
    "status_counts = crime_data['Status'].value_counts()\n",
    "\n",
    "plt.figure(figsize=(12, 6))\n",
    "status_counts.plot(kind='bar', color='skyblue')\n",
    "plt.title('Status of Reported Crimes')\n",
    "plt.xlabel('Status')\n",
    "plt.ylabel('Number of Crimes')\n",
    "plt.xticks(rotation=45)\n",
    "plt.grid(True)\n",
    "plt.show()\n",
    "\n"
   ]
  },
  {
   "cell_type": "markdown",
   "id": "e76ac277-0ec3-4461-8b07-16c7615882d2",
   "metadata": {},
   "source": [
    "Questions:\n",
    "\n",
    "1. Where are the geographical hotspots for reported crimes?\n",
    "\n",
    "-- Los Angeles of California states between latitude 34 degree to 34.1 degree and longitude -118.30 degree to -118.20 degree is a significant hotspot for reported crime.\n",
    "\n",
    "2.\n",
    "1. What is the distribution of victim ages in reported crimes?\n",
    "-- From the analysis of the histogram, In our dataset, there are zero values in the age column. we can see that most of the crimes happened in the age group of 0 to 5, and the frequency of that age group is above 90. The age group of 23 to 35 the crime frequency is above 50.\n",
    "   \n",
    "2. Is there a significant difference in crime rates between male and female victims?\n",
    "-- Yes there is a significant difference between male and female crime rates.\n",
    "   The male victims committed more crimes than femals and x victims.\n",
    "   Males crimes rate is above than 250.\n",
    "   The females have a crime rate is about 150.\n",
    "   The x victims have crime rate less than 50.\n",
    "   "
   ]
  },
  {
   "cell_type": "code",
   "execution_count": 112,
   "id": "22d4b8eb-e662-4247-b206-697455c10b36",
   "metadata": {},
   "outputs": [
    {
     "name": "stdout",
     "output_type": "stream",
     "text": [
      "top 10 locations where crimes occur:\n",
      "Location\n",
      "800 N ALAMEDA ST      14\n",
      "700 W 7TH ST          11\n",
      "1100 S FIGUEROA ST     6\n",
      "300 E 5TH ST           6\n",
      "6TH                    6\n",
      "100 E 5TH ST           5\n",
      "600 S SPRING ST        5\n",
      "500 S SAN PEDRO ST     5\n",
      "7TH ST                 5\n",
      "700 S FLOWER ST        4\n",
      "Name: count, dtype: int64\n"
     ]
    }
   ],
   "source": [
    "# 3. Where do most crimes occur based on the \"Location\" column?\n",
    "# to know the most crime that occured.\n",
    "\n",
    "import pandas as pd\n",
    "\n",
    "location_counts=df['Location'].value_counts()\n",
    "\n",
    "#print the top 5 most frequent locations.\n",
    "\n",
    "print(\"top 10 locations where crimes occur:\")\n",
    "print(location_counts.head(10)) \n"
   ]
  },
  {
   "cell_type": "code",
   "execution_count": 96,
   "id": "7e215c40-091c-41ea-a192-2b8f0b5f59f6",
   "metadata": {},
   "outputs": [
    {
     "name": "stdout",
     "output_type": "stream",
     "text": [
      "Crm_Cd\n",
      "330    82\n",
      "624    74\n",
      "440    44\n",
      "442    28\n",
      "510    28\n",
      "341    26\n",
      "230    24\n",
      "740    23\n",
      "745    23\n",
      "888    19\n",
      "310    16\n",
      "210    12\n",
      "480    11\n",
      "354    10\n",
      "420     9\n",
      "350     9\n",
      "930     7\n",
      "623     5\n",
      "761     5\n",
      "662     5\n",
      "946     4\n",
      "220     4\n",
      "648     3\n",
      "901     3\n",
      "850     2\n",
      "956     2\n",
      "351     2\n",
      "320     2\n",
      "625     2\n",
      "886     2\n",
      "900     2\n",
      "755     1\n",
      "649     1\n",
      "940     1\n",
      "647     1\n",
      "890     1\n",
      "421     1\n",
      "820     1\n",
      "812     1\n",
      "920     1\n",
      "666     1\n",
      "343     1\n",
      "Name: count, dtype: int64\n"
     ]
    },
    {
     "data": {
      "image/png": "[encoded data removed]",
      "text/plain": [
       "<Figure size 900x700 with 1 Axes>"
      ]
     },
     "metadata": {},
     "output_type": "display_data"
    }
   ],
   "source": [
    "# 4. What is the distribution of reported crimes based on Crime Code?\n",
    "\n",
    "#Get the premises descriptions\n",
    "\n",
    "code=df['Crm_Cd']\n",
    "count_of_codes = code.value_counts()\n",
    "print(count_of_codes)\n",
    "\n",
    "#Visualize the distribution of crime statuses\n",
    "\n",
    "plt.figure(figsize=(9, 7))\n",
    "count_of_codes.plot(kind='bar', color='skyblue')\n",
    "plt.title('Distribution of Reported Crime Code')\n",
    "plt.xlabel('Code')\n",
    "plt.ylabel('Number of Crimes')\n",
    "plt.show()"
   ]
  },
  {
   "cell_type": "markdown",
   "id": "d07dd85f-6a59-4f76-9c56-596c634dfc88",
   "metadata": {},
   "source": [
    "From the above, we have concluded that crime code 330 has the most occurrences with more than 82."
   ]
  }
 ],
 "metadata": {
  "kernelspec": {
   "display_name": "Python 3 (ipykernel)",
   "language": "python",
   "name": "python3"
  },
  "language_info": {
   "codemirror_mode": {
    "name": "ipython",
    "version": 3
   },
   "file_extension": ".py",
   "mimetype": "text/x-python",
   "name": "python",
   "nbconvert_exporter": "python",
   "pygments_lexer": "ipython3",
   "version": "3.11.7"
  }
 },
 "nbformat": 4,
 "nbformat_minor": 5
}
